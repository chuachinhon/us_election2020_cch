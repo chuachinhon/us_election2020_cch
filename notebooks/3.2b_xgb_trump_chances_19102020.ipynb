{
 "cells": [
  {
   "cell_type": "markdown",
   "metadata": {},
   "source": [
    "# Forecasting The 2020 US Presidential Election With XGB - Trump's chance of winning the EC\n",
    "\n",
    "# -- Updated with new data up to Oct 19 2020 \n",
    "\n",
    "This notebook deals with forecasts for Trump's probabilities of winning the electoral college. \n",
    "\n",
    "XGB is the go-to model for a lot of classification and regression tasks, but less commonly used in time series. I've seen a few online examples of how it can be used in time series forecasts, so thought I'll try implementing it here to see how the results compare with Prophet.\n",
    "\n",
    "The workflow would be familiar to those who have worked with XGB. Only notable differences are the lack of a grid-search for optimal hyperparameters, and a manual split for the train-test datasets. \n",
    "\n",
    "As Jason Brownlee points out in this [very helpful post](https://machinelearningmastery.com/xgboost-for-time-series-forecasting/), a time series model should not be evaluated with methods that randomize the dataset during evaluation, such as k-fold cross validation. Reason being that the model must be **strictly trained on past data** in order to predict the future, and not vice versa.\n",
    "\n",
    "I used his walk-forward validation code to test out a few configurations and went with the set below after achieving a mean-absolute error of about 1.44~1.47 EVs for 30 predictions. I won't incorporate that code here, but his tutorial has all the details if you wish to try that out.\n",
    "\n",
    "For these reasons, the train-test split can't be done via the usual scikit-learn tool. I manually set Sept 14 2020 as the cut-off date for the train-test split. As we get closer to the election, clearly this will change so that we continue to maintain a roughly 80:20 split.\n",
    "\n",
    "I split up the Trump-Biden forecasts to make the notebook easier to follow/replicate. Biden's forecasts using XGB are in notebook 3.3a/b.\n",
    "\n",
    "## Resources:\n",
    "\n",
    "I referenced these two posts substantially:\n",
    "\n",
    "* [Hourly Time Series Forecasting using XGBoost](https://www.kaggle.com/robikscube/tutorial-time-series-forecasting-with-xgboost)\n",
    "\n",
    "* [How to Use XGBoost for Time Series Forecasting](https://machinelearningmastery.com/xgboost-for-time-series-forecasting/)\n",
    "\n",
    "## MEDIUM POST\n",
    "\n",
    "Background and related links:\n",
    "* [Part 2](https://chuachinhon.medium.com/for-trump-no-comfort-in-forecasts-or-twitter-in-final-stretch-of-2020-us-presidential-election-186e655e9bf5)\n",
    "\n",
    "* [Part 1](https://medium.com/@chinhonchua/forecasting-the-2020-us-presidential-election-with-fb-prophet-36ab84f1a75a)"
   ]
  },
  {
   "cell_type": "code",
   "execution_count": 1,
   "metadata": {},
   "outputs": [],
   "source": [
    "import numpy as np\n",
    "import pandas as pd\n",
    "import warnings\n",
    "\n",
    "from xgboost import XGBRegressor \n",
    "\n",
    "warnings.filterwarnings('ignore')"
   ]
  },
  {
   "cell_type": "code",
   "execution_count": 2,
   "metadata": {},
   "outputs": [],
   "source": [
    "# I've included this dataset in the repo\n",
    "# It was prepared with the latest forecasts from 538 and Economist, and \n",
    "# prepared same way in notebook 1.1_data_extract_19102020; load only 2 cols that we need\n",
    "\n",
    "trump = pd.read_csv(\"../data/trump_19102020.csv\")[[\"Forecast_Date\", \"Average_Chance_of_Winning (%)\"]]\n"
   ]
  },
  {
   "cell_type": "code",
   "execution_count": 3,
   "metadata": {},
   "outputs": [
    {
     "data": {
      "text/plain": [
       "(141, 2)"
      ]
     },
     "execution_count": 3,
     "metadata": {},
     "output_type": "execute_result"
    }
   ],
   "source": [
    "trump.shape"
   ]
  },
  {
   "cell_type": "code",
   "execution_count": 4,
   "metadata": {},
   "outputs": [
    {
     "data": {
      "text/html": [
       "<div>\n",
       "<style scoped>\n",
       "    .dataframe tbody tr th:only-of-type {\n",
       "        vertical-align: middle;\n",
       "    }\n",
       "\n",
       "    .dataframe tbody tr th {\n",
       "        vertical-align: top;\n",
       "    }\n",
       "\n",
       "    .dataframe thead th {\n",
       "        text-align: right;\n",
       "    }\n",
       "</style>\n",
       "<table border=\"1\" class=\"dataframe\">\n",
       "  <thead>\n",
       "    <tr style=\"text-align: right;\">\n",
       "      <th></th>\n",
       "      <th>Forecast_Date</th>\n",
       "      <th>Average_Chance_of_Winning (%)</th>\n",
       "    </tr>\n",
       "  </thead>\n",
       "  <tbody>\n",
       "    <tr>\n",
       "      <th>0</th>\n",
       "      <td>2020-10-19</td>\n",
       "      <td>9.67125</td>\n",
       "    </tr>\n",
       "    <tr>\n",
       "      <th>1</th>\n",
       "      <td>2020-10-18</td>\n",
       "      <td>10.78875</td>\n",
       "    </tr>\n",
       "    <tr>\n",
       "      <th>2</th>\n",
       "      <td>2020-10-17</td>\n",
       "      <td>10.56750</td>\n",
       "    </tr>\n",
       "    <tr>\n",
       "      <th>3</th>\n",
       "      <td>2020-10-16</td>\n",
       "      <td>10.81125</td>\n",
       "    </tr>\n",
       "    <tr>\n",
       "      <th>4</th>\n",
       "      <td>2020-10-15</td>\n",
       "      <td>10.77500</td>\n",
       "    </tr>\n",
       "  </tbody>\n",
       "</table>\n",
       "</div>"
      ],
      "text/plain": [
       "  Forecast_Date  Average_Chance_of_Winning (%)\n",
       "0    2020-10-19                        9.67125\n",
       "1    2020-10-18                       10.78875\n",
       "2    2020-10-17                       10.56750\n",
       "3    2020-10-16                       10.81125\n",
       "4    2020-10-15                       10.77500"
      ]
     },
     "execution_count": 4,
     "metadata": {},
     "output_type": "execute_result"
    }
   ],
   "source": [
    "trump.head()"
   ]
  },
  {
   "cell_type": "markdown",
   "metadata": {},
   "source": [
    "## 1. PREPARE DATA  \n",
    "\n",
    "## 1.1 CREATE NEW FEATURES FROM DATES\n",
    "\n",
    "Nominally, we only have the forecast dates to go on as \"predictors\". But from dates we can extract a range of new features, right down to hours and minutes. But in this case, days of the week, week of the year etc make more sense as the forecasts change on a daily basis.  "
   ]
  },
  {
   "cell_type": "code",
   "execution_count": 5,
   "metadata": {},
   "outputs": [],
   "source": [
    "trump[\"Forecast_Date\"] = pd.to_datetime(trump[\"Forecast_Date\"], errors='coerce')\n",
    "\n",
    "trump[\"dayofweek\"] = trump[\"Forecast_Date\"].dt.dayofweek\n",
    "trump[\"quarter\"] = trump[\"Forecast_Date\"].dt.quarter\n",
    "trump[\"month\"] = trump[\"Forecast_Date\"].dt.month\n",
    "trump[\"dayofmonth\"] = trump[\"Forecast_Date\"].dt.day\n",
    "trump[\"weekofyear\"] = trump[\"Forecast_Date\"].dt.weekofyear"
   ]
  },
  {
   "cell_type": "markdown",
   "metadata": {},
   "source": [
    "## 1.2 MANUAL TRAIN-TEST SPLIT\n",
    "\n",
    "Pick a different date if you want to use a smaller test set."
   ]
  },
  {
   "cell_type": "code",
   "execution_count": 6,
   "metadata": {},
   "outputs": [],
   "source": [
    "train = trump[~(trump[\"Forecast_Date\"] >= \"2020-09-22\")]\n",
    "\n",
    "test = trump[trump[\"Forecast_Date\"] >= \"2020-09-22\"]"
   ]
  },
  {
   "cell_type": "code",
   "execution_count": 7,
   "metadata": {},
   "outputs": [],
   "source": [
    "X_train = train[[\"dayofweek\", \"dayofmonth\", \"month\", \"quarter\", \"weekofyear\"]]\n",
    "\n",
    "X_test = test[[\"dayofweek\", \"dayofmonth\", \"month\", \"quarter\", \"weekofyear\"]]"
   ]
  },
  {
   "cell_type": "code",
   "execution_count": 8,
   "metadata": {},
   "outputs": [],
   "source": [
    "y_train = train[\"Average_Chance_of_Winning (%)\"].values\n",
    "\n",
    "y_test = test[\"Average_Chance_of_Winning (%)\"].values"
   ]
  },
  {
   "cell_type": "code",
   "execution_count": 9,
   "metadata": {},
   "outputs": [
    {
     "data": {
      "text/plain": [
       "((113, 5), (113,), (28, 5), (28,))"
      ]
     },
     "execution_count": 9,
     "metadata": {},
     "output_type": "execute_result"
    }
   ],
   "source": [
    "# this gives us a 80:20 split\n",
    "\n",
    "X_train.shape, y_train.shape, X_test.shape, y_test.shape"
   ]
  },
  {
   "cell_type": "markdown",
   "metadata": {},
   "source": [
    "# 2. LOAD MODEL & CHECK TEST RESULTS\n",
    "\n",
    "Params below arrived at after a few trials using Jason Brownlee's walk-forward validation method, as discussed above."
   ]
  },
  {
   "cell_type": "code",
   "execution_count": 10,
   "metadata": {},
   "outputs": [
    {
     "data": {
      "text/plain": [
       "XGBRegressor(gamma=0.01, learning_rate=0.01, n_estimators=1000, n_jobs=-1,\n",
       "             objective='reg:squarederror', random_state=42)"
      ]
     },
     "execution_count": 10,
     "metadata": {},
     "output_type": "execute_result"
    }
   ],
   "source": [
    "xgb = XGBRegressor(\n",
    "    n_estimators=1000,\n",
    "    learning_rate=0.01,\n",
    "    gamma=0.01,\n",
    "    objective=\"reg:squarederror\",\n",
    "    max_depth=3,\n",
    "    n_jobs=-1,\n",
    "    random_state=42,\n",
    ")\n",
    "\n",
    "xgb.fit(\n",
    "    X_train,\n",
    "    y_train,\n",
    "    verbose=False,\n",
    ")\n"
   ]
  },
  {
   "cell_type": "code",
   "execution_count": 11,
   "metadata": {},
   "outputs": [],
   "source": [
    "test[\"XGB_Forecasts\"] = xgb.predict(X_test)\n",
    "\n",
    "trump_pred = pd.concat([test, train], sort=False).drop(\n",
    "    [\"dayofweek\", \"dayofmonth\", \"month\", \"quarter\", \"weekofyear\"], axis=1\n",
    ")\n"
   ]
  },
  {
   "cell_type": "code",
   "execution_count": 12,
   "metadata": {},
   "outputs": [
    {
     "data": {
      "text/html": [
       "<div>\n",
       "<style scoped>\n",
       "    .dataframe tbody tr th:only-of-type {\n",
       "        vertical-align: middle;\n",
       "    }\n",
       "\n",
       "    .dataframe tbody tr th {\n",
       "        vertical-align: top;\n",
       "    }\n",
       "\n",
       "    .dataframe thead th {\n",
       "        text-align: right;\n",
       "    }\n",
       "</style>\n",
       "<table border=\"1\" class=\"dataframe\">\n",
       "  <thead>\n",
       "    <tr style=\"text-align: right;\">\n",
       "      <th></th>\n",
       "      <th>Forecast_Date</th>\n",
       "      <th>Average_Chance_of_Winning (%)</th>\n",
       "      <th>XGB_Forecasts</th>\n",
       "    </tr>\n",
       "  </thead>\n",
       "  <tbody>\n",
       "    <tr>\n",
       "      <th>0</th>\n",
       "      <td>2020-10-19</td>\n",
       "      <td>9.67125</td>\n",
       "      <td>18.638954</td>\n",
       "    </tr>\n",
       "    <tr>\n",
       "      <th>1</th>\n",
       "      <td>2020-10-18</td>\n",
       "      <td>10.78875</td>\n",
       "      <td>18.181906</td>\n",
       "    </tr>\n",
       "    <tr>\n",
       "      <th>2</th>\n",
       "      <td>2020-10-17</td>\n",
       "      <td>10.56750</td>\n",
       "      <td>18.570286</td>\n",
       "    </tr>\n",
       "    <tr>\n",
       "      <th>3</th>\n",
       "      <td>2020-10-16</td>\n",
       "      <td>10.81125</td>\n",
       "      <td>18.556946</td>\n",
       "    </tr>\n",
       "    <tr>\n",
       "      <th>4</th>\n",
       "      <td>2020-10-15</td>\n",
       "      <td>10.77500</td>\n",
       "      <td>18.607380</td>\n",
       "    </tr>\n",
       "    <tr>\n",
       "      <th>5</th>\n",
       "      <td>2020-10-14</td>\n",
       "      <td>10.78875</td>\n",
       "      <td>18.653614</td>\n",
       "    </tr>\n",
       "    <tr>\n",
       "      <th>6</th>\n",
       "      <td>2020-10-13</td>\n",
       "      <td>10.73875</td>\n",
       "      <td>19.504313</td>\n",
       "    </tr>\n",
       "    <tr>\n",
       "      <th>7</th>\n",
       "      <td>2020-10-12</td>\n",
       "      <td>11.21625</td>\n",
       "      <td>19.660921</td>\n",
       "    </tr>\n",
       "    <tr>\n",
       "      <th>8</th>\n",
       "      <td>2020-10-11</td>\n",
       "      <td>11.23625</td>\n",
       "      <td>19.137009</td>\n",
       "    </tr>\n",
       "    <tr>\n",
       "      <th>9</th>\n",
       "      <td>2020-10-10</td>\n",
       "      <td>11.17125</td>\n",
       "      <td>19.478369</td>\n",
       "    </tr>\n",
       "    <tr>\n",
       "      <th>10</th>\n",
       "      <td>2020-10-09</td>\n",
       "      <td>11.30125</td>\n",
       "      <td>19.385389</td>\n",
       "    </tr>\n",
       "    <tr>\n",
       "      <th>11</th>\n",
       "      <td>2020-10-08</td>\n",
       "      <td>11.43125</td>\n",
       "      <td>20.645033</td>\n",
       "    </tr>\n",
       "    <tr>\n",
       "      <th>12</th>\n",
       "      <td>2020-10-07</td>\n",
       "      <td>12.37250</td>\n",
       "      <td>20.645033</td>\n",
       "    </tr>\n",
       "    <tr>\n",
       "      <th>13</th>\n",
       "      <td>2020-10-06</td>\n",
       "      <td>13.43750</td>\n",
       "      <td>21.260756</td>\n",
       "    </tr>\n",
       "    <tr>\n",
       "      <th>14</th>\n",
       "      <td>2020-10-05</td>\n",
       "      <td>14.13625</td>\n",
       "      <td>21.300573</td>\n",
       "    </tr>\n",
       "    <tr>\n",
       "      <th>15</th>\n",
       "      <td>2020-10-04</td>\n",
       "      <td>14.82750</td>\n",
       "      <td>20.714317</td>\n",
       "    </tr>\n",
       "    <tr>\n",
       "      <th>16</th>\n",
       "      <td>2020-10-03</td>\n",
       "      <td>16.01250</td>\n",
       "      <td>20.831858</td>\n",
       "    </tr>\n",
       "    <tr>\n",
       "      <th>17</th>\n",
       "      <td>2020-10-02</td>\n",
       "      <td>16.54375</td>\n",
       "      <td>20.707327</td>\n",
       "    </tr>\n",
       "    <tr>\n",
       "      <th>18</th>\n",
       "      <td>2020-10-01</td>\n",
       "      <td>15.00875</td>\n",
       "      <td>20.713230</td>\n",
       "    </tr>\n",
       "    <tr>\n",
       "      <th>19</th>\n",
       "      <td>2020-09-30</td>\n",
       "      <td>16.57125</td>\n",
       "      <td>20.868166</td>\n",
       "    </tr>\n",
       "  </tbody>\n",
       "</table>\n",
       "</div>"
      ],
      "text/plain": [
       "   Forecast_Date  Average_Chance_of_Winning (%)  XGB_Forecasts\n",
       "0     2020-10-19                        9.67125      18.638954\n",
       "1     2020-10-18                       10.78875      18.181906\n",
       "2     2020-10-17                       10.56750      18.570286\n",
       "3     2020-10-16                       10.81125      18.556946\n",
       "4     2020-10-15                       10.77500      18.607380\n",
       "5     2020-10-14                       10.78875      18.653614\n",
       "6     2020-10-13                       10.73875      19.504313\n",
       "7     2020-10-12                       11.21625      19.660921\n",
       "8     2020-10-11                       11.23625      19.137009\n",
       "9     2020-10-10                       11.17125      19.478369\n",
       "10    2020-10-09                       11.30125      19.385389\n",
       "11    2020-10-08                       11.43125      20.645033\n",
       "12    2020-10-07                       12.37250      20.645033\n",
       "13    2020-10-06                       13.43750      21.260756\n",
       "14    2020-10-05                       14.13625      21.300573\n",
       "15    2020-10-04                       14.82750      20.714317\n",
       "16    2020-10-03                       16.01250      20.831858\n",
       "17    2020-10-02                       16.54375      20.707327\n",
       "18    2020-10-01                       15.00875      20.713230\n",
       "19    2020-09-30                       16.57125      20.868166"
      ]
     },
     "execution_count": 12,
     "metadata": {},
     "output_type": "execute_result"
    }
   ],
   "source": [
    "trump_pred.head(20)"
   ]
  },
  {
   "cell_type": "markdown",
   "metadata": {},
   "source": [
    "# 3. FORECASTS FOR CHANCE OF WINNING TO NOV 4\n",
    "\n",
    "## 3.1 EXPOSE MODEL TO FULL DATA\n",
    "\n",
    "First let's let expose the model to the full set of available data."
   ]
  },
  {
   "cell_type": "code",
   "execution_count": 13,
   "metadata": {},
   "outputs": [],
   "source": [
    "X = trump[[\"dayofweek\", \"dayofmonth\", \"month\", \"quarter\", \"weekofyear\"]]\n",
    "\n",
    "y = trump[\"Average_Chance_of_Winning (%)\"].values"
   ]
  },
  {
   "cell_type": "code",
   "execution_count": 14,
   "metadata": {},
   "outputs": [
    {
     "data": {
      "text/plain": [
       "XGBRegressor(gamma=0.01, learning_rate=0.01, n_estimators=1000, n_jobs=-1,\n",
       "             objective='reg:squarederror', random_state=42)"
      ]
     },
     "execution_count": 14,
     "metadata": {},
     "output_type": "execute_result"
    }
   ],
   "source": [
    "xgb.fit(X,y)"
   ]
  },
  {
   "cell_type": "markdown",
   "metadata": {},
   "source": [
    "## 3.2 GENERATE NEW DF WITH DATES UP TO NOV 4"
   ]
  },
  {
   "cell_type": "code",
   "execution_count": 15,
   "metadata": {},
   "outputs": [],
   "source": [
    "forecast = (trump[\"Forecast_Date\"] + pd.Timedelta(16, unit=\"days\")).to_frame()\n",
    "\n",
    "forecast[\"Average_Chance_of_Winning (%)\"] = None \n",
    "\n",
    "forecast = forecast[forecast[\"Forecast_Date\"] >= \"2020-10-01\"]"
   ]
  },
  {
   "cell_type": "code",
   "execution_count": 16,
   "metadata": {},
   "outputs": [],
   "source": [
    "#forecast[\"Forecast_Date\"] = pd.to_datetime(forecast[\"Forecast_Date\"], errors='coerce')\n",
    "\n",
    "forecast[\"dayofweek\"] = forecast[\"Forecast_Date\"].dt.dayofweek\n",
    "forecast[\"quarter\"] = forecast[\"Forecast_Date\"].dt.quarter\n",
    "forecast[\"month\"] = forecast[\"Forecast_Date\"].dt.month\n",
    "forecast[\"dayofmonth\"] = forecast[\"Forecast_Date\"].dt.day\n",
    "forecast[\"weekofyear\"] = forecast[\"Forecast_Date\"].dt.weekofyear"
   ]
  },
  {
   "cell_type": "code",
   "execution_count": 17,
   "metadata": {},
   "outputs": [
    {
     "data": {
      "text/html": [
       "<div>\n",
       "<style scoped>\n",
       "    .dataframe tbody tr th:only-of-type {\n",
       "        vertical-align: middle;\n",
       "    }\n",
       "\n",
       "    .dataframe tbody tr th {\n",
       "        vertical-align: top;\n",
       "    }\n",
       "\n",
       "    .dataframe thead th {\n",
       "        text-align: right;\n",
       "    }\n",
       "</style>\n",
       "<table border=\"1\" class=\"dataframe\">\n",
       "  <thead>\n",
       "    <tr style=\"text-align: right;\">\n",
       "      <th></th>\n",
       "      <th>Forecast_Date</th>\n",
       "      <th>Average_Chance_of_Winning (%)</th>\n",
       "      <th>dayofweek</th>\n",
       "      <th>quarter</th>\n",
       "      <th>month</th>\n",
       "      <th>dayofmonth</th>\n",
       "      <th>weekofyear</th>\n",
       "    </tr>\n",
       "  </thead>\n",
       "  <tbody>\n",
       "    <tr>\n",
       "      <th>0</th>\n",
       "      <td>2020-11-04</td>\n",
       "      <td>None</td>\n",
       "      <td>2</td>\n",
       "      <td>4</td>\n",
       "      <td>11</td>\n",
       "      <td>4</td>\n",
       "      <td>45</td>\n",
       "    </tr>\n",
       "    <tr>\n",
       "      <th>1</th>\n",
       "      <td>2020-11-03</td>\n",
       "      <td>None</td>\n",
       "      <td>1</td>\n",
       "      <td>4</td>\n",
       "      <td>11</td>\n",
       "      <td>3</td>\n",
       "      <td>45</td>\n",
       "    </tr>\n",
       "    <tr>\n",
       "      <th>2</th>\n",
       "      <td>2020-11-02</td>\n",
       "      <td>None</td>\n",
       "      <td>0</td>\n",
       "      <td>4</td>\n",
       "      <td>11</td>\n",
       "      <td>2</td>\n",
       "      <td>45</td>\n",
       "    </tr>\n",
       "    <tr>\n",
       "      <th>3</th>\n",
       "      <td>2020-11-01</td>\n",
       "      <td>None</td>\n",
       "      <td>6</td>\n",
       "      <td>4</td>\n",
       "      <td>11</td>\n",
       "      <td>1</td>\n",
       "      <td>44</td>\n",
       "    </tr>\n",
       "    <tr>\n",
       "      <th>4</th>\n",
       "      <td>2020-10-31</td>\n",
       "      <td>None</td>\n",
       "      <td>5</td>\n",
       "      <td>4</td>\n",
       "      <td>10</td>\n",
       "      <td>31</td>\n",
       "      <td>44</td>\n",
       "    </tr>\n",
       "  </tbody>\n",
       "</table>\n",
       "</div>"
      ],
      "text/plain": [
       "  Forecast_Date Average_Chance_of_Winning (%)  dayofweek  quarter  month  \\\n",
       "0    2020-11-04                          None          2        4     11   \n",
       "1    2020-11-03                          None          1        4     11   \n",
       "2    2020-11-02                          None          0        4     11   \n",
       "3    2020-11-01                          None          6        4     11   \n",
       "4    2020-10-31                          None          5        4     10   \n",
       "\n",
       "   dayofmonth  weekofyear  \n",
       "0           4          45  \n",
       "1           3          45  \n",
       "2           2          45  \n",
       "3           1          44  \n",
       "4          31          44  "
      ]
     },
     "execution_count": 17,
     "metadata": {},
     "output_type": "execute_result"
    }
   ],
   "source": [
    "forecast.head()"
   ]
  },
  {
   "cell_type": "markdown",
   "metadata": {},
   "source": [
    "## 3.3 GENERATE FORECASTS "
   ]
  },
  {
   "cell_type": "code",
   "execution_count": 18,
   "metadata": {},
   "outputs": [],
   "source": [
    "X_forecast = forecast[[\"dayofweek\", \"dayofmonth\", \"month\", \"quarter\", \"weekofyear\"]]"
   ]
  },
  {
   "cell_type": "code",
   "execution_count": 19,
   "metadata": {},
   "outputs": [],
   "source": [
    "forecast[\"XGB_Trump_Forecast\"] = xgb.predict(X_forecast)"
   ]
  },
  {
   "cell_type": "code",
   "execution_count": 20,
   "metadata": {},
   "outputs": [],
   "source": [
    "forecast_pred = forecast[[\"Forecast_Date\", \"XGB_Trump_Forecast\"]].copy()"
   ]
  },
  {
   "cell_type": "code",
   "execution_count": 21,
   "metadata": {},
   "outputs": [
    {
     "data": {
      "text/html": [
       "<div>\n",
       "<style scoped>\n",
       "    .dataframe tbody tr th:only-of-type {\n",
       "        vertical-align: middle;\n",
       "    }\n",
       "\n",
       "    .dataframe tbody tr th {\n",
       "        vertical-align: top;\n",
       "    }\n",
       "\n",
       "    .dataframe thead th {\n",
       "        text-align: right;\n",
       "    }\n",
       "</style>\n",
       "<table border=\"1\" class=\"dataframe\">\n",
       "  <thead>\n",
       "    <tr style=\"text-align: right;\">\n",
       "      <th></th>\n",
       "      <th>Forecast_Date</th>\n",
       "      <th>XGB_Trump_Forecast</th>\n",
       "    </tr>\n",
       "  </thead>\n",
       "  <tbody>\n",
       "    <tr>\n",
       "      <th>0</th>\n",
       "      <td>2020-11-04</td>\n",
       "      <td>11.284355</td>\n",
       "    </tr>\n",
       "    <tr>\n",
       "      <th>1</th>\n",
       "      <td>2020-11-03</td>\n",
       "      <td>11.998125</td>\n",
       "    </tr>\n",
       "    <tr>\n",
       "      <th>2</th>\n",
       "      <td>2020-11-02</td>\n",
       "      <td>11.911569</td>\n",
       "    </tr>\n",
       "    <tr>\n",
       "      <th>3</th>\n",
       "      <td>2020-11-01</td>\n",
       "      <td>10.739668</td>\n",
       "    </tr>\n",
       "    <tr>\n",
       "      <th>4</th>\n",
       "      <td>2020-10-31</td>\n",
       "      <td>10.795016</td>\n",
       "    </tr>\n",
       "  </tbody>\n",
       "</table>\n",
       "</div>"
      ],
      "text/plain": [
       "  Forecast_Date  XGB_Trump_Forecast\n",
       "0    2020-11-04           11.284355\n",
       "1    2020-11-03           11.998125\n",
       "2    2020-11-02           11.911569\n",
       "3    2020-11-01           10.739668\n",
       "4    2020-10-31           10.795016"
      ]
     },
     "execution_count": 21,
     "metadata": {},
     "output_type": "execute_result"
    }
   ],
   "source": [
    "forecast_pred.head()"
   ]
  },
  {
   "cell_type": "code",
   "execution_count": 22,
   "metadata": {},
   "outputs": [],
   "source": [
    "# forecast_pred.to_csv(\"../data/XGB_Trump_chances_19102020.csv\", index=False)"
   ]
  },
  {
   "cell_type": "code",
   "execution_count": null,
   "metadata": {},
   "outputs": [],
   "source": []
  }
 ],
 "metadata": {
  "kernelspec": {
   "display_name": "Python 3",
   "language": "python",
   "name": "python3"
  },
  "language_info": {
   "codemirror_mode": {
    "name": "ipython",
    "version": 3
   },
   "file_extension": ".py",
   "mimetype": "text/x-python",
   "name": "python",
   "nbconvert_exporter": "python",
   "pygments_lexer": "ipython3",
   "version": "3.6.8"
  }
 },
 "nbformat": 4,
 "nbformat_minor": 4
}
