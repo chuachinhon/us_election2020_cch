{
 "cells": [
  {
   "cell_type": "code",
   "execution_count": 1,
   "metadata": {},
   "outputs": [],
   "source": [
    "%load_ext blackcellmagic"
   ]
  },
  {
   "cell_type": "code",
   "execution_count": 2,
   "metadata": {},
   "outputs": [],
   "source": [
    "import pandas as pd\n",
    "import requests\n",
    "import spacy\n",
    "\n",
    "from bs4 import BeautifulSoup"
   ]
  },
  {
   "cell_type": "code",
   "execution_count": 3,
   "metadata": {},
   "outputs": [],
   "source": [
    "url = \"https://www.rev.com/blog/transcripts/donald-trump-joe-biden-1st-presidential-debate-transcript-2020\"\n",
    "\n",
    "soup = BeautifulSoup(requests.get(url).content, \"html.parser\")\n",
    "data = []\n",
    "for p in soup.find(\"div\", attrs={\"class\": \"fl-callout-content\"}).findAll(\"p\"):\n",
    "    raw = p.text.strip()\n",
    "    if raw == \"\":\n",
    "        continue\n",
    "    content = \"\\n\".join(raw.split(\"\\n\")[1:])\n",
    "    speaker = raw.split(\"\\n\")[0].split(\":\")[0]\n",
    "    time = raw.split(\"\\n\")[0].split(\":\", 1)[1].strip()\n",
    "    time = time[1:-1]\n",
    "    if len(time) == 5:\n",
    "        time = \"00:\" + time\n",
    "    data.append({\"Speaker\": speaker, \"Time\": time, \"Text\": content})\n"
   ]
  },
  {
   "cell_type": "code",
   "execution_count": 4,
   "metadata": {},
   "outputs": [
    {
     "name": "stderr",
     "output_type": "stream",
     "text": [
      "\u001b[34m\u001b[1mwandb\u001b[0m: \u001b[33mWARNING\u001b[0m W&B installed but not logged in.  Run `wandb login` or set the WANDB_API_KEY env variable.\n"
     ]
    }
   ],
   "source": [
    "df = pd.DataFrame(data).assign(\n",
    "    Name=lambda df: df[\"Speaker\"].apply(\n",
    "        lambda x: {\"P\": \"Trump\", \"V\": \"Biden\", \"C\": \"Wallace\"}.get(x[0])\n",
    "    ),\n",
    "    Parse=lambda df: df.Text.apply(spacy.load(\"en_core_web_lg\")),\n",
    ")\n"
   ]
  },
  {
   "cell_type": "code",
   "execution_count": 7,
   "metadata": {},
   "outputs": [
    {
     "data": {
      "text/html": [
       "<div>\n",
       "<style scoped>\n",
       "    .dataframe tbody tr th:only-of-type {\n",
       "        vertical-align: middle;\n",
       "    }\n",
       "\n",
       "    .dataframe tbody tr th {\n",
       "        vertical-align: top;\n",
       "    }\n",
       "\n",
       "    .dataframe thead th {\n",
       "        text-align: right;\n",
       "    }\n",
       "</style>\n",
       "<table border=\"1\" class=\"dataframe\">\n",
       "  <thead>\n",
       "    <tr style=\"text-align: right;\">\n",
       "      <th></th>\n",
       "      <th>Speaker</th>\n",
       "      <th>Time</th>\n",
       "      <th>Text</th>\n",
       "      <th>Name</th>\n",
       "      <th>Parse</th>\n",
       "    </tr>\n",
       "  </thead>\n",
       "  <tbody>\n",
       "    <tr>\n",
       "      <th>0</th>\n",
       "      <td>Chris Wallace</td>\n",
       "      <td>00:01:20</td>\n",
       "      <td>Good evening from the Health Education Campus ...</td>\n",
       "      <td>Wallace</td>\n",
       "      <td>(Good, evening, from, the, Health, Education, ...</td>\n",
       "    </tr>\n",
       "    <tr>\n",
       "      <th>1</th>\n",
       "      <td>Chris Wallace</td>\n",
       "      <td>00:02:10</td>\n",
       "      <td>This debate is being conducted under health an...</td>\n",
       "      <td>Wallace</td>\n",
       "      <td>(This, debate, is, being, conducted, under, he...</td>\n",
       "    </tr>\n",
       "    <tr>\n",
       "      <th>2</th>\n",
       "      <td>Vice President Joe Biden</td>\n",
       "      <td>00:02:49</td>\n",
       "      <td>How you doing, man?</td>\n",
       "      <td>Biden</td>\n",
       "      <td>(How, you, doing, ,, man, ?)</td>\n",
       "    </tr>\n",
       "    <tr>\n",
       "      <th>3</th>\n",
       "      <td>President Donald J. Trump</td>\n",
       "      <td>00:02:51</td>\n",
       "      <td>How are you doing?</td>\n",
       "      <td>Trump</td>\n",
       "      <td>(How, are, you, doing, ?)</td>\n",
       "    </tr>\n",
       "    <tr>\n",
       "      <th>4</th>\n",
       "      <td>Vice President Joe Biden</td>\n",
       "      <td>00:02:51</td>\n",
       "      <td>I’m well.</td>\n",
       "      <td>Biden</td>\n",
       "      <td>(I, ’m, well, .)</td>\n",
       "    </tr>\n",
       "    <tr>\n",
       "      <th>5</th>\n",
       "      <td>Chris Wallace</td>\n",
       "      <td>00:03:11</td>\n",
       "      <td>Gentlemen, a lot of people been waiting for th...</td>\n",
       "      <td>Wallace</td>\n",
       "      <td>(Gentlemen, ,, a, lot, of, people, been, waiti...</td>\n",
       "    </tr>\n",
       "    <tr>\n",
       "      <th>6</th>\n",
       "      <td>President Donald J. Trump</td>\n",
       "      <td>00:04:01</td>\n",
       "      <td>Thank you very much, Chris. I will tell you ve...</td>\n",
       "      <td>Trump</td>\n",
       "      <td>(Thank, you, very, much, ,, Chris, ., I, will,...</td>\n",
       "    </tr>\n",
       "    <tr>\n",
       "      <th>7</th>\n",
       "      <td>President Donald J. Trump</td>\n",
       "      <td>00:04:53</td>\n",
       "      <td>And we won the election and therefore we have ...</td>\n",
       "      <td>Trump</td>\n",
       "      <td>(And, we, won, the, election, and, therefore, ...</td>\n",
       "    </tr>\n",
       "    <tr>\n",
       "      <th>8</th>\n",
       "      <td>Chris Wallace</td>\n",
       "      <td>00:05:22</td>\n",
       "      <td>President Trump, thank you. Same question to y...</td>\n",
       "      <td>Wallace</td>\n",
       "      <td>(President, Trump, ,, thank, you, ., Same, que...</td>\n",
       "    </tr>\n",
       "    <tr>\n",
       "      <th>9</th>\n",
       "      <td>Vice President Joe Biden</td>\n",
       "      <td>00:05:29</td>\n",
       "      <td>Well, first of all, thank you for doing this a...</td>\n",
       "      <td>Biden</td>\n",
       "      <td>(Well, ,, first, of, all, ,, thank, you, for, ...</td>\n",
       "    </tr>\n",
       "  </tbody>\n",
       "</table>\n",
       "</div>"
      ],
      "text/plain": [
       "                     Speaker      Time  \\\n",
       "0              Chris Wallace  00:01:20   \n",
       "1              Chris Wallace  00:02:10   \n",
       "2   Vice President Joe Biden  00:02:49   \n",
       "3  President Donald J. Trump  00:02:51   \n",
       "4   Vice President Joe Biden  00:02:51   \n",
       "5              Chris Wallace  00:03:11   \n",
       "6  President Donald J. Trump  00:04:01   \n",
       "7  President Donald J. Trump  00:04:53   \n",
       "8              Chris Wallace  00:05:22   \n",
       "9   Vice President Joe Biden  00:05:29   \n",
       "\n",
       "                                                Text     Name  \\\n",
       "0  Good evening from the Health Education Campus ...  Wallace   \n",
       "1  This debate is being conducted under health an...  Wallace   \n",
       "2                                How you doing, man?    Biden   \n",
       "3                                 How are you doing?    Trump   \n",
       "4                                          I’m well.    Biden   \n",
       "5  Gentlemen, a lot of people been waiting for th...  Wallace   \n",
       "6  Thank you very much, Chris. I will tell you ve...    Trump   \n",
       "7  And we won the election and therefore we have ...    Trump   \n",
       "8  President Trump, thank you. Same question to y...  Wallace   \n",
       "9  Well, first of all, thank you for doing this a...    Biden   \n",
       "\n",
       "                                               Parse  \n",
       "0  (Good, evening, from, the, Health, Education, ...  \n",
       "1  (This, debate, is, being, conducted, under, he...  \n",
       "2                       (How, you, doing, ,, man, ?)  \n",
       "3                          (How, are, you, doing, ?)  \n",
       "4                                   (I, ’m, well, .)  \n",
       "5  (Gentlemen, ,, a, lot, of, people, been, waiti...  \n",
       "6  (Thank, you, very, much, ,, Chris, ., I, will,...  \n",
       "7  (And, we, won, the, election, and, therefore, ...  \n",
       "8  (President, Trump, ,, thank, you, ., Same, que...  \n",
       "9  (Well, ,, first, of, all, ,, thank, you, for, ...  "
      ]
     },
     "execution_count": 7,
     "metadata": {},
     "output_type": "execute_result"
    }
   ],
   "source": [
    "df.head(10)"
   ]
  },
  {
   "cell_type": "code",
   "execution_count": 6,
   "metadata": {},
   "outputs": [
    {
     "data": {
      "text/plain": [
       "(789, 5)"
      ]
     },
     "execution_count": 6,
     "metadata": {},
     "output_type": "execute_result"
    }
   ],
   "source": [
    "df.shape"
   ]
  },
  {
   "cell_type": "code",
   "execution_count": 8,
   "metadata": {},
   "outputs": [],
   "source": [
    "df.to_csv(\"../data/debate01_transcript_29092020.csv\", index=False)"
   ]
  },
  {
   "cell_type": "code",
   "execution_count": null,
   "metadata": {},
   "outputs": [],
   "source": []
  }
 ],
 "metadata": {
  "kernelspec": {
   "display_name": "Python 3",
   "language": "python",
   "name": "python3"
  },
  "language_info": {
   "codemirror_mode": {
    "name": "ipython",
    "version": 3
   },
   "file_extension": ".py",
   "mimetype": "text/x-python",
   "name": "python",
   "nbconvert_exporter": "python",
   "pygments_lexer": "ipython3",
   "version": "3.6.8"
  }
 },
 "nbformat": 4,
 "nbformat_minor": 4
}
