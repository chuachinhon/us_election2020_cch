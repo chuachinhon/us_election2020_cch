{
 "cells": [
  {
   "cell_type": "markdown",
   "metadata": {},
   "source": [
    "# Forecasting The 2020 US Presidential Election With XGB - Trump's forecast\n",
    "\n",
    "XGB is the go-to model for a lot of classification and regression tasks, but less commonly used in time series. I've seen a few online examples of how it can be used in time series forecasts, so thought I'll try implementing it here to see how the results compare with Prophet.\n",
    "\n",
    "The workflow would be familiar to those who have worked with XGB. Only notable differences are the lack of a grid-search for optimal hyperparameters, and a manual split for the train-test datasets. \n",
    "\n",
    "As Jason Brownlee points out in this [very helpful post](https://machinelearningmastery.com/xgboost-for-time-series-forecasting/), a time series model should not be evaluated with methods that randomize the dataset during evaluation, such as k-fold cross validation. Reason being that the model must be **strictly trained on past data** in order to predict the future, and not vice versa.\n",
    "\n",
    "I used his walk-forward validation code to test out a few configurations and went with the set below after achieving a mean-absolute error of about 1.44~1.47 EVs for 30 predictions. I won't incorporate that code here, but his tutorial has all the details if you wish to try that out.\n",
    "\n",
    "For these reasons, the train-test split can't be done via the usual scikit-learn tool. I manually set Sept 14 2020 as the cut-off date for the train-test split. As we get closer to the election, clearly this will change so that we continue to maintain a roughly 80:20 split.\n",
    "\n",
    "I split up the Trump-Biden forecasts to make the notebook easier to follow/replicate. Biden's forecasts using XGB are in notebook 3.1.\n",
    "\n",
    "## Resources:\n",
    "\n",
    "I referenced these two posts substantially:\n",
    "\n",
    "* [Hourly Time Series Forecasting using XGBoost](https://www.kaggle.com/robikscube/tutorial-time-series-forecasting-with-xgboost)\n",
    "\n",
    "* [How to Use XGBoost for Time Series Forecasting](https://machinelearningmastery.com/xgboost-for-time-series-forecasting/)\n",
    "\n",
    "## MEDIUM POST\n",
    "\n",
    "Further background and related links [here](https://medium.com/@chinhonchua/forecasting-the-2020-us-presidential-election-with-fb-prophet-36ab84f1a75a)"
   ]
  },
  {
   "cell_type": "code",
   "execution_count": 1,
   "metadata": {},
   "outputs": [],
   "source": [
    "import numpy as np\n",
    "import pandas as pd\n",
    "import warnings\n",
    "\n",
    "from xgboost import XGBRegressor \n",
    "\n",
    "warnings.filterwarnings('ignore')"
   ]
  },
  {
   "cell_type": "code",
   "execution_count": 2,
   "metadata": {},
   "outputs": [],
   "source": [
    "# I've included this dataset in the repo\n",
    "# It was prepared with the latest forecasts from 538 and Economist, and prepared same way in notebook1.0\n",
    "# load only 2 cols that we need\n",
    "\n",
    "trump = pd.read_csv(\"../data/trump_ev08102020.csv\")[[\"Forecast_Date\", \"Average_Projected_EV\"]]\n"
   ]
  },
  {
   "cell_type": "code",
   "execution_count": 3,
   "metadata": {},
   "outputs": [
    {
     "data": {
      "text/plain": [
       "(130, 2)"
      ]
     },
     "execution_count": 3,
     "metadata": {},
     "output_type": "execute_result"
    }
   ],
   "source": [
    "trump.shape"
   ]
  },
  {
   "cell_type": "code",
   "execution_count": 4,
   "metadata": {},
   "outputs": [
    {
     "data": {
      "text/html": [
       "<div>\n",
       "<style scoped>\n",
       "    .dataframe tbody tr th:only-of-type {\n",
       "        vertical-align: middle;\n",
       "    }\n",
       "\n",
       "    .dataframe tbody tr th {\n",
       "        vertical-align: top;\n",
       "    }\n",
       "\n",
       "    .dataframe thead th {\n",
       "        text-align: right;\n",
       "    }\n",
       "</style>\n",
       "<table border=\"1\" class=\"dataframe\">\n",
       "  <thead>\n",
       "    <tr style=\"text-align: right;\">\n",
       "      <th></th>\n",
       "      <th>Forecast_Date</th>\n",
       "      <th>Average_Projected_EV</th>\n",
       "    </tr>\n",
       "  </thead>\n",
       "  <tbody>\n",
       "    <tr>\n",
       "      <th>0</th>\n",
       "      <td>2020-10-08</td>\n",
       "      <td>191.49640</td>\n",
       "    </tr>\n",
       "    <tr>\n",
       "      <th>1</th>\n",
       "      <td>2020-10-07</td>\n",
       "      <td>193.68975</td>\n",
       "    </tr>\n",
       "    <tr>\n",
       "      <th>2</th>\n",
       "      <td>2020-10-06</td>\n",
       "      <td>198.16755</td>\n",
       "    </tr>\n",
       "    <tr>\n",
       "      <th>3</th>\n",
       "      <td>2020-10-05</td>\n",
       "      <td>199.62800</td>\n",
       "    </tr>\n",
       "    <tr>\n",
       "      <th>4</th>\n",
       "      <td>2020-10-04</td>\n",
       "      <td>201.12800</td>\n",
       "    </tr>\n",
       "  </tbody>\n",
       "</table>\n",
       "</div>"
      ],
      "text/plain": [
       "  Forecast_Date  Average_Projected_EV\n",
       "0    2020-10-08             191.49640\n",
       "1    2020-10-07             193.68975\n",
       "2    2020-10-06             198.16755\n",
       "3    2020-10-05             199.62800\n",
       "4    2020-10-04             201.12800"
      ]
     },
     "execution_count": 4,
     "metadata": {},
     "output_type": "execute_result"
    }
   ],
   "source": [
    "trump.head()"
   ]
  },
  {
   "cell_type": "markdown",
   "metadata": {},
   "source": [
    "## 1. PREPARE DATA  \n",
    "\n",
    "## 1.1 CREATE NEW FEATURES FROM DATES\n",
    "\n",
    "Nominally, we only have the forecast dates to go on as \"predictors\". But from dates we can extract a range of new features, right down to hours and minutes. But in this case, days of the week, week of the year etc make more sense as the forecasts change on a daily basis.  "
   ]
  },
  {
   "cell_type": "code",
   "execution_count": 5,
   "metadata": {},
   "outputs": [],
   "source": [
    "trump[\"Forecast_Date\"] = pd.to_datetime(trump[\"Forecast_Date\"], errors='coerce')\n",
    "\n",
    "trump[\"dayofweek\"] = trump[\"Forecast_Date\"].dt.dayofweek\n",
    "trump[\"quarter\"] = trump[\"Forecast_Date\"].dt.quarter\n",
    "trump[\"month\"] = trump[\"Forecast_Date\"].dt.month\n",
    "trump[\"dayofmonth\"] = trump[\"Forecast_Date\"].dt.day\n",
    "trump[\"weekofyear\"] = trump[\"Forecast_Date\"].dt.weekofyear"
   ]
  },
  {
   "cell_type": "markdown",
   "metadata": {},
   "source": [
    "## 1.2 MANUAL TRAIN-TEST SPLIT\n",
    "\n",
    "Pick a different date if you want to use a smaller test set."
   ]
  },
  {
   "cell_type": "code",
   "execution_count": 6,
   "metadata": {},
   "outputs": [],
   "source": [
    "train = trump[~(trump[\"Forecast_Date\"] >= \"2020-09-14\")]\n",
    "\n",
    "test = trump[trump[\"Forecast_Date\"] >= \"2020-09-14\"]"
   ]
  },
  {
   "cell_type": "code",
   "execution_count": 7,
   "metadata": {},
   "outputs": [],
   "source": [
    "X_train = train[[\"dayofweek\", \"dayofmonth\", \"month\", \"quarter\", \"weekofyear\"]]\n",
    "\n",
    "X_test = test[[\"dayofweek\", \"dayofmonth\", \"month\", \"quarter\", \"weekofyear\"]]"
   ]
  },
  {
   "cell_type": "code",
   "execution_count": 8,
   "metadata": {},
   "outputs": [],
   "source": [
    "y_train = train[\"Average_Projected_EV\"].values\n",
    "\n",
    "y_test = test[\"Average_Projected_EV\"].values"
   ]
  },
  {
   "cell_type": "code",
   "execution_count": 9,
   "metadata": {},
   "outputs": [
    {
     "data": {
      "text/plain": [
       "((105, 5), (105,), (25, 5), (25,))"
      ]
     },
     "execution_count": 9,
     "metadata": {},
     "output_type": "execute_result"
    }
   ],
   "source": [
    "# this gives us a 80:20 split\n",
    "\n",
    "X_train.shape, y_train.shape, X_test.shape, y_test.shape"
   ]
  },
  {
   "cell_type": "markdown",
   "metadata": {},
   "source": [
    "# 2. LOAD MODEL & CHECK TEST RESULTS\n",
    "\n",
    "Params below arrived at after a few trials using Jason Brownlee's walk-forward validation method, as discussed above."
   ]
  },
  {
   "cell_type": "code",
   "execution_count": 10,
   "metadata": {},
   "outputs": [
    {
     "data": {
      "text/plain": [
       "XGBRegressor(gamma=0.01, learning_rate=0.01, n_estimators=1000, n_jobs=-1,\n",
       "             objective='reg:squarederror', random_state=42)"
      ]
     },
     "execution_count": 10,
     "metadata": {},
     "output_type": "execute_result"
    }
   ],
   "source": [
    "xgb = XGBRegressor(\n",
    "    n_estimators=1000,\n",
    "    learning_rate=0.01,\n",
    "    gamma=0.01,\n",
    "    objective=\"reg:squarederror\",\n",
    "    max_depth=3,\n",
    "    n_jobs=-1,\n",
    "    random_state=42,\n",
    ")\n",
    "\n",
    "xgb.fit(\n",
    "    X_train,\n",
    "    y_train,\n",
    "    verbose=False,\n",
    ")\n"
   ]
  },
  {
   "cell_type": "code",
   "execution_count": 11,
   "metadata": {},
   "outputs": [],
   "source": [
    "test[\"XGB_Forecasts\"] = xgb.predict(X_test)\n",
    "\n",
    "trump_pred = pd.concat([test, train], sort=False).drop(\n",
    "    [\"dayofweek\", \"dayofmonth\", \"month\", \"quarter\", \"weekofyear\"], axis=1\n",
    ")\n"
   ]
  },
  {
   "cell_type": "code",
   "execution_count": 12,
   "metadata": {},
   "outputs": [
    {
     "data": {
      "text/html": [
       "<div>\n",
       "<style scoped>\n",
       "    .dataframe tbody tr th:only-of-type {\n",
       "        vertical-align: middle;\n",
       "    }\n",
       "\n",
       "    .dataframe tbody tr th {\n",
       "        vertical-align: top;\n",
       "    }\n",
       "\n",
       "    .dataframe thead th {\n",
       "        text-align: right;\n",
       "    }\n",
       "</style>\n",
       "<table border=\"1\" class=\"dataframe\">\n",
       "  <thead>\n",
       "    <tr style=\"text-align: right;\">\n",
       "      <th></th>\n",
       "      <th>Forecast_Date</th>\n",
       "      <th>Average_Projected_EV</th>\n",
       "      <th>XGB_Forecasts</th>\n",
       "    </tr>\n",
       "  </thead>\n",
       "  <tbody>\n",
       "    <tr>\n",
       "      <th>0</th>\n",
       "      <td>2020-10-08</td>\n",
       "      <td>191.49640</td>\n",
       "      <td>209.044357</td>\n",
       "    </tr>\n",
       "    <tr>\n",
       "      <th>1</th>\n",
       "      <td>2020-10-07</td>\n",
       "      <td>193.68975</td>\n",
       "      <td>209.088181</td>\n",
       "    </tr>\n",
       "    <tr>\n",
       "      <th>2</th>\n",
       "      <td>2020-10-06</td>\n",
       "      <td>198.16755</td>\n",
       "      <td>210.385468</td>\n",
       "    </tr>\n",
       "    <tr>\n",
       "      <th>3</th>\n",
       "      <td>2020-10-05</td>\n",
       "      <td>199.62800</td>\n",
       "      <td>210.492767</td>\n",
       "    </tr>\n",
       "    <tr>\n",
       "      <th>4</th>\n",
       "      <td>2020-10-04</td>\n",
       "      <td>201.12800</td>\n",
       "      <td>209.215958</td>\n",
       "    </tr>\n",
       "    <tr>\n",
       "      <th>5</th>\n",
       "      <td>2020-10-03</td>\n",
       "      <td>204.11120</td>\n",
       "      <td>209.333450</td>\n",
       "    </tr>\n",
       "    <tr>\n",
       "      <th>6</th>\n",
       "      <td>2020-10-02</td>\n",
       "      <td>204.00535</td>\n",
       "      <td>209.032700</td>\n",
       "    </tr>\n",
       "    <tr>\n",
       "      <th>7</th>\n",
       "      <td>2020-10-01</td>\n",
       "      <td>200.79955</td>\n",
       "      <td>209.733856</td>\n",
       "    </tr>\n",
       "    <tr>\n",
       "      <th>8</th>\n",
       "      <td>2020-09-30</td>\n",
       "      <td>203.64310</td>\n",
       "      <td>210.151459</td>\n",
       "    </tr>\n",
       "    <tr>\n",
       "      <th>9</th>\n",
       "      <td>2020-09-29</td>\n",
       "      <td>205.46640</td>\n",
       "      <td>210.626297</td>\n",
       "    </tr>\n",
       "    <tr>\n",
       "      <th>10</th>\n",
       "      <td>2020-09-28</td>\n",
       "      <td>206.89475</td>\n",
       "      <td>208.552475</td>\n",
       "    </tr>\n",
       "    <tr>\n",
       "      <th>11</th>\n",
       "      <td>2020-09-27</td>\n",
       "      <td>206.81905</td>\n",
       "      <td>207.898376</td>\n",
       "    </tr>\n",
       "    <tr>\n",
       "      <th>12</th>\n",
       "      <td>2020-09-26</td>\n",
       "      <td>205.58800</td>\n",
       "      <td>204.952545</td>\n",
       "    </tr>\n",
       "    <tr>\n",
       "      <th>13</th>\n",
       "      <td>2020-09-25</td>\n",
       "      <td>206.27490</td>\n",
       "      <td>204.651794</td>\n",
       "    </tr>\n",
       "    <tr>\n",
       "      <th>14</th>\n",
       "      <td>2020-09-24</td>\n",
       "      <td>208.00680</td>\n",
       "      <td>204.594360</td>\n",
       "    </tr>\n",
       "    <tr>\n",
       "      <th>15</th>\n",
       "      <td>2020-09-23</td>\n",
       "      <td>205.16310</td>\n",
       "      <td>204.539001</td>\n",
       "    </tr>\n",
       "    <tr>\n",
       "      <th>16</th>\n",
       "      <td>2020-09-22</td>\n",
       "      <td>204.98990</td>\n",
       "      <td>205.306061</td>\n",
       "    </tr>\n",
       "    <tr>\n",
       "      <th>17</th>\n",
       "      <td>2020-09-21</td>\n",
       "      <td>205.17390</td>\n",
       "      <td>205.199142</td>\n",
       "    </tr>\n",
       "    <tr>\n",
       "      <th>18</th>\n",
       "      <td>2020-09-20</td>\n",
       "      <td>205.20535</td>\n",
       "      <td>205.469818</td>\n",
       "    </tr>\n",
       "    <tr>\n",
       "      <th>19</th>\n",
       "      <td>2020-09-19</td>\n",
       "      <td>205.69785</td>\n",
       "      <td>206.782669</td>\n",
       "    </tr>\n",
       "  </tbody>\n",
       "</table>\n",
       "</div>"
      ],
      "text/plain": [
       "   Forecast_Date  Average_Projected_EV  XGB_Forecasts\n",
       "0     2020-10-08             191.49640     209.044357\n",
       "1     2020-10-07             193.68975     209.088181\n",
       "2     2020-10-06             198.16755     210.385468\n",
       "3     2020-10-05             199.62800     210.492767\n",
       "4     2020-10-04             201.12800     209.215958\n",
       "5     2020-10-03             204.11120     209.333450\n",
       "6     2020-10-02             204.00535     209.032700\n",
       "7     2020-10-01             200.79955     209.733856\n",
       "8     2020-09-30             203.64310     210.151459\n",
       "9     2020-09-29             205.46640     210.626297\n",
       "10    2020-09-28             206.89475     208.552475\n",
       "11    2020-09-27             206.81905     207.898376\n",
       "12    2020-09-26             205.58800     204.952545\n",
       "13    2020-09-25             206.27490     204.651794\n",
       "14    2020-09-24             208.00680     204.594360\n",
       "15    2020-09-23             205.16310     204.539001\n",
       "16    2020-09-22             204.98990     205.306061\n",
       "17    2020-09-21             205.17390     205.199142\n",
       "18    2020-09-20             205.20535     205.469818\n",
       "19    2020-09-19             205.69785     206.782669"
      ]
     },
     "execution_count": 12,
     "metadata": {},
     "output_type": "execute_result"
    }
   ],
   "source": [
    "trump_pred.head(20)"
   ]
  },
  {
   "cell_type": "markdown",
   "metadata": {},
   "source": [
    "## NOTE:\n",
    "\n",
    "XGB's forecasts in mid-to-late September were pretty close to the aggregated forecasts from 538 and The Economist. But the forecasts started looking a little unstable from Sept 29. Let's push ahead to see how well it does in the forecasts for the month ahead till Nov 4."
   ]
  },
  {
   "cell_type": "markdown",
   "metadata": {},
   "source": [
    "# 3. FORECASTS TO NOV 4\n",
    "\n",
    "## 3.1 EXPOSE MODEL TO FULL DATA\n",
    "\n",
    "First let's let expose the model to the full set of available data."
   ]
  },
  {
   "cell_type": "code",
   "execution_count": 13,
   "metadata": {},
   "outputs": [],
   "source": [
    "X = trump[[\"dayofweek\", \"dayofmonth\", \"month\", \"quarter\", \"weekofyear\"]]\n",
    "\n",
    "y = trump[\"Average_Projected_EV\"].values"
   ]
  },
  {
   "cell_type": "code",
   "execution_count": 14,
   "metadata": {},
   "outputs": [
    {
     "data": {
      "text/plain": [
       "XGBRegressor(gamma=0.01, learning_rate=0.01, n_estimators=1000, n_jobs=-1,\n",
       "             objective='reg:squarederror', random_state=42)"
      ]
     },
     "execution_count": 14,
     "metadata": {},
     "output_type": "execute_result"
    }
   ],
   "source": [
    "xgb.fit(X,y)"
   ]
  },
  {
   "cell_type": "markdown",
   "metadata": {},
   "source": [
    "## 3.2 GENERATE NEW DF WITH DATES UP TO NOV 4"
   ]
  },
  {
   "cell_type": "code",
   "execution_count": 15,
   "metadata": {},
   "outputs": [],
   "source": [
    "forecast = (trump[\"Forecast_Date\"] + pd.Timedelta(27, unit=\"days\")).to_frame()\n",
    "\n",
    "forecast[\"Average_Projected_EV\"] = None \n",
    "\n",
    "forecast = forecast[forecast[\"Forecast_Date\"] >= \"2020-10-01\"]"
   ]
  },
  {
   "cell_type": "code",
   "execution_count": 16,
   "metadata": {},
   "outputs": [],
   "source": [
    "#forecast[\"Forecast_Date\"] = pd.to_datetime(forecast[\"Forecast_Date\"], errors='coerce')\n",
    "\n",
    "forecast[\"dayofweek\"] = forecast[\"Forecast_Date\"].dt.dayofweek\n",
    "forecast[\"quarter\"] = forecast[\"Forecast_Date\"].dt.quarter\n",
    "forecast[\"month\"] = forecast[\"Forecast_Date\"].dt.month\n",
    "forecast[\"dayofmonth\"] = forecast[\"Forecast_Date\"].dt.day\n",
    "forecast[\"weekofyear\"] = forecast[\"Forecast_Date\"].dt.weekofyear"
   ]
  },
  {
   "cell_type": "code",
   "execution_count": 17,
   "metadata": {},
   "outputs": [
    {
     "data": {
      "text/html": [
       "<div>\n",
       "<style scoped>\n",
       "    .dataframe tbody tr th:only-of-type {\n",
       "        vertical-align: middle;\n",
       "    }\n",
       "\n",
       "    .dataframe tbody tr th {\n",
       "        vertical-align: top;\n",
       "    }\n",
       "\n",
       "    .dataframe thead th {\n",
       "        text-align: right;\n",
       "    }\n",
       "</style>\n",
       "<table border=\"1\" class=\"dataframe\">\n",
       "  <thead>\n",
       "    <tr style=\"text-align: right;\">\n",
       "      <th></th>\n",
       "      <th>Forecast_Date</th>\n",
       "      <th>Average_Projected_EV</th>\n",
       "      <th>dayofweek</th>\n",
       "      <th>quarter</th>\n",
       "      <th>month</th>\n",
       "      <th>dayofmonth</th>\n",
       "      <th>weekofyear</th>\n",
       "    </tr>\n",
       "  </thead>\n",
       "  <tbody>\n",
       "    <tr>\n",
       "      <th>0</th>\n",
       "      <td>2020-11-04</td>\n",
       "      <td>None</td>\n",
       "      <td>2</td>\n",
       "      <td>4</td>\n",
       "      <td>11</td>\n",
       "      <td>4</td>\n",
       "      <td>45</td>\n",
       "    </tr>\n",
       "    <tr>\n",
       "      <th>1</th>\n",
       "      <td>2020-11-03</td>\n",
       "      <td>None</td>\n",
       "      <td>1</td>\n",
       "      <td>4</td>\n",
       "      <td>11</td>\n",
       "      <td>3</td>\n",
       "      <td>45</td>\n",
       "    </tr>\n",
       "    <tr>\n",
       "      <th>2</th>\n",
       "      <td>2020-11-02</td>\n",
       "      <td>None</td>\n",
       "      <td>0</td>\n",
       "      <td>4</td>\n",
       "      <td>11</td>\n",
       "      <td>2</td>\n",
       "      <td>45</td>\n",
       "    </tr>\n",
       "    <tr>\n",
       "      <th>3</th>\n",
       "      <td>2020-11-01</td>\n",
       "      <td>None</td>\n",
       "      <td>6</td>\n",
       "      <td>4</td>\n",
       "      <td>11</td>\n",
       "      <td>1</td>\n",
       "      <td>44</td>\n",
       "    </tr>\n",
       "    <tr>\n",
       "      <th>4</th>\n",
       "      <td>2020-10-31</td>\n",
       "      <td>None</td>\n",
       "      <td>5</td>\n",
       "      <td>4</td>\n",
       "      <td>10</td>\n",
       "      <td>31</td>\n",
       "      <td>44</td>\n",
       "    </tr>\n",
       "  </tbody>\n",
       "</table>\n",
       "</div>"
      ],
      "text/plain": [
       "  Forecast_Date Average_Projected_EV  dayofweek  quarter  month  dayofmonth  \\\n",
       "0    2020-11-04                 None          2        4     11           4   \n",
       "1    2020-11-03                 None          1        4     11           3   \n",
       "2    2020-11-02                 None          0        4     11           2   \n",
       "3    2020-11-01                 None          6        4     11           1   \n",
       "4    2020-10-31                 None          5        4     10          31   \n",
       "\n",
       "   weekofyear  \n",
       "0          45  \n",
       "1          45  \n",
       "2          45  \n",
       "3          44  \n",
       "4          44  "
      ]
     },
     "execution_count": 17,
     "metadata": {},
     "output_type": "execute_result"
    }
   ],
   "source": [
    "forecast.head()"
   ]
  },
  {
   "cell_type": "markdown",
   "metadata": {},
   "source": [
    "## 3.3 GENERATE FORECASTS "
   ]
  },
  {
   "cell_type": "code",
   "execution_count": 18,
   "metadata": {},
   "outputs": [],
   "source": [
    "X_forecast = forecast[[\"dayofweek\", \"dayofmonth\", \"month\", \"quarter\", \"weekofyear\"]]"
   ]
  },
  {
   "cell_type": "code",
   "execution_count": 19,
   "metadata": {},
   "outputs": [],
   "source": [
    "forecast[\"XGB_Trump_Forecast\"] = xgb.predict(X_forecast)"
   ]
  },
  {
   "cell_type": "code",
   "execution_count": 20,
   "metadata": {},
   "outputs": [],
   "source": [
    "forecast_pred = forecast[[\"Forecast_Date\", \"XGB_Trump_Forecast\"]].copy()"
   ]
  },
  {
   "cell_type": "code",
   "execution_count": 21,
   "metadata": {},
   "outputs": [
    {
     "data": {
      "text/html": [
       "<div>\n",
       "<style scoped>\n",
       "    .dataframe tbody tr th:only-of-type {\n",
       "        vertical-align: middle;\n",
       "    }\n",
       "\n",
       "    .dataframe tbody tr th {\n",
       "        vertical-align: top;\n",
       "    }\n",
       "\n",
       "    .dataframe thead th {\n",
       "        text-align: right;\n",
       "    }\n",
       "</style>\n",
       "<table border=\"1\" class=\"dataframe\">\n",
       "  <thead>\n",
       "    <tr style=\"text-align: right;\">\n",
       "      <th></th>\n",
       "      <th>Forecast_Date</th>\n",
       "      <th>XGB_Trump_Forecast</th>\n",
       "    </tr>\n",
       "  </thead>\n",
       "  <tbody>\n",
       "    <tr>\n",
       "      <th>0</th>\n",
       "      <td>2020-11-04</td>\n",
       "      <td>196.377625</td>\n",
       "    </tr>\n",
       "    <tr>\n",
       "      <th>1</th>\n",
       "      <td>2020-11-03</td>\n",
       "      <td>198.207016</td>\n",
       "    </tr>\n",
       "    <tr>\n",
       "      <th>2</th>\n",
       "      <td>2020-11-02</td>\n",
       "      <td>199.020355</td>\n",
       "    </tr>\n",
       "    <tr>\n",
       "      <th>3</th>\n",
       "      <td>2020-11-01</td>\n",
       "      <td>197.394409</td>\n",
       "    </tr>\n",
       "    <tr>\n",
       "      <th>4</th>\n",
       "      <td>2020-10-31</td>\n",
       "      <td>197.282593</td>\n",
       "    </tr>\n",
       "  </tbody>\n",
       "</table>\n",
       "</div>"
      ],
      "text/plain": [
       "  Forecast_Date  XGB_Trump_Forecast\n",
       "0    2020-11-04          196.377625\n",
       "1    2020-11-03          198.207016\n",
       "2    2020-11-02          199.020355\n",
       "3    2020-11-01          197.394409\n",
       "4    2020-10-31          197.282593"
      ]
     },
     "execution_count": 21,
     "metadata": {},
     "output_type": "execute_result"
    }
   ],
   "source": [
    "forecast_pred.head()"
   ]
  },
  {
   "cell_type": "markdown",
   "metadata": {},
   "source": [
    "## NOTE:\n",
    "\n",
    "The XGB forecasts are pretty, pretty close to those by Prophet, with the exception of days like Oct 31. I'll plot them out on Google Sheets/Slides for a clearer view.\n",
    "\n",
    "See notebook 3.1 for Biden's forecasts using XGB."
   ]
  },
  {
   "cell_type": "code",
   "execution_count": 22,
   "metadata": {},
   "outputs": [],
   "source": [
    "#forecast_pred.to_csv(\"../data/XGB_Trump_08102020.csv\", index=False)"
   ]
  }
 ],
 "metadata": {
  "kernelspec": {
   "display_name": "Python 3",
   "language": "python",
   "name": "python3"
  },
  "language_info": {
   "codemirror_mode": {
    "name": "ipython",
    "version": 3
   },
   "file_extension": ".py",
   "mimetype": "text/x-python",
   "name": "python",
   "nbconvert_exporter": "python",
   "pygments_lexer": "ipython3",
   "version": "3.6.8"
  }
 },
 "nbformat": 4,
 "nbformat_minor": 4
}
